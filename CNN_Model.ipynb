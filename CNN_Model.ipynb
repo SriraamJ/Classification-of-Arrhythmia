{
  "cells": [
    {
      "cell_type": "markdown",
      "metadata": {
        "id": "6a1Yf5f2Mpbb"
      },
      "source": [
        "# **Import the Libraries:**"
      ]
    },
    {
      "cell_type": "code",
      "execution_count": 1,
      "metadata": {
        "id": "MHMDOqeQVlO0"
      },
      "outputs": [],
      "source": [
        "from tensorflow.keras.models import Sequential\n",
        "from tensorflow.keras.layers import Dense\n",
        "from tensorflow.keras.layers import Convolution2D\n",
        "from tensorflow.keras.layers import MaxPooling2D\n",
        "from tensorflow.keras.layers import Flatten\n",
        "from keras.utils import to_categorical"
      ]
    },
    {
      "cell_type": "markdown",
      "metadata": {
        "id": "2MWIvfQQVeg_"
      },
      "source": [
        "# **Import The Image data Generator**"
      ]
    },
    {
      "cell_type": "code",
      "execution_count": 2,
      "metadata": {
        "id": "eORDYn7vWWhO"
      },
      "outputs": [],
      "source": [
        "from tensorflow.keras.preprocessing.image import ImageDataGenerator"
      ]
    },
    {
      "cell_type": "markdown",
      "metadata": {
        "id": "xMif9-vXVZAA"
      },
      "source": [
        "# **Confiqure Image Data Generator Class**"
      ]
    },
    {
      "cell_type": "code",
      "execution_count": 3,
      "metadata": {
        "id": "xaJsYKu0WXNC"
      },
      "outputs": [],
      "source": [
        "train_datagen = ImageDataGenerator(rescale = 1./255,shear_range = 0.2,zoom_range = 0.2,horizontal_flip = True)\n",
        "test_datagen = ImageDataGenerator(rescale = 1./255)"
      ]
    },
    {
      "cell_type": "markdown",
      "metadata": {
        "id": "FyOZps8NVg66"
      },
      "source": [
        "# **Apply Image Data Generator Functionality To Trainset and Testset**"
      ]
    },
    {
      "cell_type": "code",
      "execution_count": 4,
      "metadata": {},
      "outputs": [],
      "source": [
        "num_classes = 7; # 6 class labels + 1 unkown class "
      ]
    },
    {
      "cell_type": "code",
      "execution_count": 5,
      "metadata": {
        "colab": {
          "base_uri": "https://localhost:8080/"
        },
        "id": "5NvGzwGsWaq6",
        "outputId": "9fae79f4-7dc0-4274-fd83-0bc40edc71fc"
      },
      "outputs": [
        {
          "name": "stdout",
          "output_type": "stream",
          "text": [
            "Found 105668 images belonging to 7 classes.\n",
            "Found 28288 images belonging to 7 classes.\n"
          ]
        }
      ],
      "source": [
        "x_train = train_datagen.flow_from_directory(\"F:/ClassificationOfArrythmia/ECG_Image_data/train\",target_size = (64,64),\n",
        "                                            batch_size = 32,class_mode = \"categorical\")\n",
        "x_test = test_datagen.flow_from_directory(\"F:/ClassificationOfArrythmia/ECG_Image_data/test\",target_size = (64,64),\n",
        "                                            batch_size = 32,class_mode = \"categorical\")\n",
        "\n",
        "#, classes=[\"Left Bundle Branch Block\",\"Normal\",\"Premature Atrial Contraction\", \"Premature Ventricular Contraction\",\"Right Bundle Branch Block\", \"Ventricular Fibrillation\",\"Unknown\"]"
      ]
    },
    {
      "cell_type": "code",
      "execution_count": 6,
      "metadata": {
        "colab": {
          "base_uri": "https://localhost:8080/"
        },
        "id": "wXm4A7eiWgLH",
        "outputId": "b338df14-b917-40d0-ff90-0224734cc16c"
      },
      "outputs": [
        {
          "data": {
            "text/plain": [
              "{'Left Bundle Branch Block': 0,\n",
              " 'Normal': 1,\n",
              " 'Premature Atrial Contraction': 2,\n",
              " 'Premature Ventricular Contraction': 3,\n",
              " 'Right Bundle Branch Block': 4,\n",
              " 'Ventricular Fibrillation': 5,\n",
              " 'z_Unknown': 6}"
            ]
          },
          "execution_count": 6,
          "metadata": {},
          "output_type": "execute_result"
        }
      ],
      "source": [
        "x_train.class_indices"
      ]
    },
    {
      "cell_type": "markdown",
      "metadata": {
        "id": "pgyU84ZiNDcC"
      },
      "source": [
        "# **Adding CNN Layers:**\n"
      ]
    },
    {
      "cell_type": "code",
      "execution_count": 7,
      "metadata": {
        "id": "iYSfVoZSWj95"
      },
      "outputs": [],
      "source": [
        "model = Sequential()\n"
      ]
    },
    {
      "cell_type": "code",
      "execution_count": 8,
      "metadata": {
        "id": "jJcs8KljWp4a"
      },
      "outputs": [],
      "source": [
        "model.add(Convolution2D(32,(3,3),input_shape = (64,64,3),activation = \"relu\"))"
      ]
    },
    {
      "cell_type": "code",
      "execution_count": 9,
      "metadata": {
        "id": "sEOTDL-mWug2"
      },
      "outputs": [],
      "source": [
        "model.add(MaxPooling2D(pool_size = (2,2)))"
      ]
    },
    {
      "cell_type": "code",
      "execution_count": 10,
      "metadata": {
        "id": "0yox9Q1SWyh6"
      },
      "outputs": [],
      "source": [
        "model.add(Convolution2D(32,(3,3),activation='relu'))"
      ]
    },
    {
      "cell_type": "code",
      "execution_count": 11,
      "metadata": {
        "id": "Z6g9fQNCW2ba"
      },
      "outputs": [],
      "source": [
        "model.add(MaxPooling2D(pool_size=(2,2)))"
      ]
    },
    {
      "cell_type": "code",
      "execution_count": 12,
      "metadata": {
        "id": "u3GB7KClW6fD"
      },
      "outputs": [],
      "source": [
        "model.add(Flatten()) # ANN Input..."
      ]
    },
    {
      "cell_type": "markdown",
      "metadata": {
        "id": "mbCbTICYNOmo"
      },
      "source": [
        "# **Adding Dense Layers:**"
      ]
    },
    {
      "cell_type": "code",
      "execution_count": 13,
      "metadata": {
        "id": "F33fyAoTW9pF"
      },
      "outputs": [],
      "source": [
        "model.add(Dense(units = 128,kernel_initializer = \"random_uniform\",activation = \"relu\"))"
      ]
    },
    {
      "cell_type": "code",
      "execution_count": 14,
      "metadata": {
        "id": "YHGGKI_fXAwQ"
      },
      "outputs": [],
      "source": [
        "model.add(Dense(units = 128,kernel_initializer = \"random_uniform\",activation = \"relu\"))"
      ]
    },
    {
      "cell_type": "code",
      "execution_count": 15,
      "metadata": {
        "id": "xLPiFSRAXFdq"
      },
      "outputs": [],
      "source": [
        "model.add(Dense(units = 128,kernel_initializer = \"random_uniform\",activation = \"relu\"))\n"
      ]
    },
    {
      "cell_type": "code",
      "execution_count": 16,
      "metadata": {
        "id": "c8zTQieEXJTb"
      },
      "outputs": [],
      "source": [
        "model.add(Dense(units = 128,kernel_initializer = \"random_uniform\",activation = \"relu\"))"
      ]
    },
    {
      "cell_type": "code",
      "execution_count": 17,
      "metadata": {
        "id": "jkKmzrfgXMVL"
      },
      "outputs": [],
      "source": [
        "model.add(Dense(units = 128,kernel_initializer = \"random_uniform\",activation = \"relu\"))"
      ]
    },
    {
      "cell_type": "markdown",
      "metadata": {
        "id": "xXmU_i5bNZS4"
      },
      "source": [
        "# **Adding Output Layer:**"
      ]
    },
    {
      "cell_type": "code",
      "execution_count": 18,
      "metadata": {
        "id": "rYf7dQfJXT5U"
      },
      "outputs": [],
      "source": [
        "model.add(Dense(units = num_classes,kernel_initializer = \"random_uniform\",activation = \"softmax\"))"
      ]
    },
    {
      "cell_type": "code",
      "execution_count": 19,
      "metadata": {
        "colab": {
          "base_uri": "https://localhost:8080/"
        },
        "id": "WxMoD5HOXary",
        "outputId": "a90c4e85-54b3-424a-96a4-b86f2ee3b060"
      },
      "outputs": [
        {
          "name": "stdout",
          "output_type": "stream",
          "text": [
            "Model: \"sequential\"\n",
            "_________________________________________________________________\n",
            " Layer (type)                Output Shape              Param #   \n",
            "=================================================================\n",
            " conv2d (Conv2D)             (None, 62, 62, 32)        896       \n",
            "                                                                 \n",
            " max_pooling2d (MaxPooling2  (None, 31, 31, 32)        0         \n",
            " D)                                                              \n",
            "                                                                 \n",
            " conv2d_1 (Conv2D)           (None, 29, 29, 32)        9248      \n",
            "                                                                 \n",
            " max_pooling2d_1 (MaxPoolin  (None, 14, 14, 32)        0         \n",
            " g2D)                                                            \n",
            "                                                                 \n",
            " flatten (Flatten)           (None, 6272)              0         \n",
            "                                                                 \n",
            " dense (Dense)               (None, 128)               802944    \n",
            "                                                                 \n",
            " dense_1 (Dense)             (None, 128)               16512     \n",
            "                                                                 \n",
            " dense_2 (Dense)             (None, 128)               16512     \n",
            "                                                                 \n",
            " dense_3 (Dense)             (None, 128)               16512     \n",
            "                                                                 \n",
            " dense_4 (Dense)             (None, 128)               16512     \n",
            "                                                                 \n",
            " dense_5 (Dense)             (None, 7)                 903       \n",
            "                                                                 \n",
            "=================================================================\n",
            "Total params: 880039 (3.36 MB)\n",
            "Trainable params: 880039 (3.36 MB)\n",
            "Non-trainable params: 0 (0.00 Byte)\n",
            "_________________________________________________________________\n"
          ]
        }
      ],
      "source": [
        "model.summary()"
      ]
    },
    {
      "cell_type": "code",
      "execution_count": 20,
      "metadata": {
        "id": "Hc5KpmodXfNs"
      },
      "outputs": [],
      "source": [
        "model.compile(optimizer='adam',loss='categorical_crossentropy',metrics=['accuracy'])"
      ]
    },
    {
      "cell_type": "markdown",
      "metadata": {
        "id": "mU4gFNq3N4bv"
      },
      "source": [
        "# **Train the model:**\n"
      ]
    },
    {
      "cell_type": "code",
      "execution_count": 21,
      "metadata": {
        "colab": {
          "base_uri": "https://localhost:8080/"
        },
        "id": "q5vgj71KXnvH",
        "outputId": "f00a54f7-5367-4a63-cd00-0bdb6924e202"
      },
      "outputs": [
        {
          "name": "stderr",
          "output_type": "stream",
          "text": [
            "C:\\Users\\dhamo\\AppData\\Local\\Temp\\ipykernel_12204\\788911318.py:1: UserWarning: `Model.fit_generator` is deprecated and will be removed in a future version. Please use `Model.fit`, which supports generators.\n",
            "  model.fit_generator(generator=x_train,steps_per_epoch = len(x_train), epochs=9, validation_data=x_test,validation_steps = len(x_test))\n"
          ]
        },
        {
          "name": "stdout",
          "output_type": "stream",
          "text": [
            "Epoch 1/9\n",
            "3303/3303 [==============================] - 2460s 744ms/step - loss: 0.1451 - accuracy: 0.9554 - val_loss: 0.1959 - val_accuracy: 0.9426\n",
            "Epoch 2/9\n",
            "3303/3303 [==============================] - 2261s 685ms/step - loss: 0.0436 - accuracy: 0.9889 - val_loss: 0.0973 - val_accuracy: 0.9645\n",
            "Epoch 3/9\n",
            "3303/3303 [==============================] - 2395s 725ms/step - loss: 0.0125 - accuracy: 0.9967 - val_loss: 0.0081 - val_accuracy: 0.9981\n",
            "Epoch 4/9\n",
            "3303/3303 [==============================] - 2179s 660ms/step - loss: 0.0099 - accuracy: 0.9982 - val_loss: 0.0089 - val_accuracy: 0.9990\n",
            "Epoch 5/9\n",
            "3303/3303 [==============================] - 2271s 688ms/step - loss: 0.0124 - accuracy: 0.9976 - val_loss: 0.0032 - val_accuracy: 0.9994\n",
            "Epoch 6/9\n",
            "3303/3303 [==============================] - 2396s 725ms/step - loss: 0.0046 - accuracy: 0.9991 - val_loss: 0.0019 - val_accuracy: 0.9997\n",
            "Epoch 7/9\n",
            "3303/3303 [==============================] - 2068s 626ms/step - loss: 0.0055 - accuracy: 0.9991 - val_loss: 6.5632e-04 - val_accuracy: 0.9998\n",
            "Epoch 8/9\n",
            "3303/3303 [==============================] - 1977s 598ms/step - loss: 0.0047 - accuracy: 0.9993 - val_loss: 7.9239e-04 - val_accuracy: 0.9998\n",
            "Epoch 9/9\n",
            "3303/3303 [==============================] - 2133s 646ms/step - loss: 0.0054 - accuracy: 0.9990 - val_loss: 0.0016 - val_accuracy: 0.9998\n"
          ]
        },
        {
          "data": {
            "text/plain": [
              "<keras.src.callbacks.History at 0x1771001b850>"
            ]
          },
          "execution_count": 21,
          "metadata": {},
          "output_type": "execute_result"
        }
      ],
      "source": [
        "model.fit_generator(generator=x_train,steps_per_epoch = len(x_train), epochs=9, validation_data=x_test,validation_steps = len(x_test))"
      ]
    },
    {
      "cell_type": "markdown",
      "metadata": {
        "id": "te53G3DfNs_P"
      },
      "source": [
        "# **Save the model:**"
      ]
    },
    {
      "cell_type": "code",
      "execution_count": 22,
      "metadata": {
        "id": "Oeq8GP_5Xslp"
      },
      "outputs": [
        {
          "name": "stderr",
          "output_type": "stream",
          "text": [
            "c:\\Users\\dhamo\\AppData\\Local\\Programs\\Python\\Python310\\lib\\site-packages\\keras\\src\\engine\\training.py:3000: UserWarning: You are saving your model as an HDF5 file via `model.save()`. This file format is considered legacy. We recommend using instead the native Keras format, e.g. `model.save('my_model.keras')`.\n",
            "  saving_api.save_model(\n"
          ]
        }
      ],
      "source": [
        "#Saving Model.\n",
        "model.save('ECG_CNN_Model.h5')"
      ]
    },
    {
      "cell_type": "markdown",
      "metadata": {
        "id": "kc-ZXIETU4E3"
      },
      "source": [
        "# **Testing the model:**"
      ]
    },
    {
      "cell_type": "code",
      "execution_count": 23,
      "metadata": {
        "id": "V7yaZSAGYo5A"
      },
      "outputs": [],
      "source": [
        "from tensorflow.keras.models import load_model\n",
        "from tensorflow.keras.preprocessing import image"
      ]
    },
    {
      "cell_type": "code",
      "execution_count": 24,
      "metadata": {
        "id": "Kux1_xG8Ys2b"
      },
      "outputs": [],
      "source": [
        "model=load_model('ECG_CNN_Model.h5')"
      ]
    },
    {
      "cell_type": "code",
      "execution_count": 25,
      "metadata": {
        "id": "ZJ2Hk5yRYwMi"
      },
      "outputs": [],
      "source": [
        "img=image.load_img(\"F:/ClassificationOfArrythmia/ECG_Image_data/test/Normal/M1.png\",target_size=(64,64))"
      ]
    },
    {
      "cell_type": "code",
      "execution_count": 26,
      "metadata": {
        "id": "DGprfkx8Y_0L"
      },
      "outputs": [],
      "source": [
        "x=image.img_to_array(img) "
      ]
    },
    {
      "cell_type": "code",
      "execution_count": 27,
      "metadata": {
        "colab": {
          "base_uri": "https://localhost:8080/",
          "height": 81
        },
        "id": "Uf2juK28Jnk9",
        "outputId": "067bf602-6ab6-49f2-8f30-c42519daa2aa"
      },
      "outputs": [
        {
          "data": {
            "image/jpeg": "[encoded data removed]",
            "image/png": "[encoded data removed]",
            "text/plain": [
              "<PIL.Image.Image image mode=RGB size=64x64>"
            ]
          },
          "execution_count": 27,
          "metadata": {},
          "output_type": "execute_result"
        }
      ],
      "source": [
        "img"
      ]
    },
    {
      "cell_type": "code",
      "execution_count": 28,
      "metadata": {
        "id": "1ABhw5HaZEUe"
      },
      "outputs": [],
      "source": [
        "import numpy as np"
      ]
    },
    {
      "cell_type": "code",
      "execution_count": 29,
      "metadata": {
        "id": "GbXNMF7hZPg4"
      },
      "outputs": [],
      "source": [
        "x=np.expand_dims(x,axis=0)"
      ]
    },
    {
      "cell_type": "code",
      "execution_count": 30,
      "metadata": {
        "colab": {
          "base_uri": "https://localhost:8080/"
        },
        "id": "YBX_bDTaaBf_",
        "outputId": "20702708-8377-431f-fb5c-8c8e6560e7c4"
      },
      "outputs": [
        {
          "name": "stdout",
          "output_type": "stream",
          "text": [
            "1/1 [==============================] - 0s 417ms/step\n",
            "Pred =  [[0. 1. 0. 0. 0. 0. 0.]]\n"
          ]
        },
        {
          "data": {
            "text/plain": [
              "1"
            ]
          },
          "execution_count": 30,
          "metadata": {},
          "output_type": "execute_result"
        }
      ],
      "source": [
        "pred = model.predict(x)\n",
        "print(\"Pred = \",pred)\n",
        "y_pred=np.argmax(pred)\n",
        "y_pred"
      ]
    },
    {
      "cell_type": "code",
      "execution_count": 31,
      "metadata": {
        "id": "FFMgfCEzZe5C"
      },
      "outputs": [],
      "source": [
        "index=['Left Bundle Branch Block',\n",
        "       'Normal',\n",
        "       'Premature Atrial Contraction',\n",
        "       'Premature Ventricular Contraction',\n",
        "       'Right Bundle Branch Block',\n",
        "       'Ventricular Fibrillation',\n",
        "       'Unknown']\n"
      ]
    },
    {
      "cell_type": "code",
      "execution_count": 32,
      "metadata": {
        "colab": {
          "base_uri": "https://localhost:8080/",
          "height": 36
        },
        "id": "hElDLfK7ZfbV",
        "outputId": "0ea0955d-9803-4c9b-fe97-558003733f03"
      },
      "outputs": [
        {
          "data": {
            "text/plain": [
              "'Normal'"
            ]
          },
          "execution_count": 32,
          "metadata": {},
          "output_type": "execute_result"
        }
      ],
      "source": [
        "\n",
        "result = str(index[y_pred])\n",
        "result"
      ]
    }
  ],
  "metadata": {
    "accelerator": "GPU",
    "colab": {
      "provenance": []
    },
    "gpuClass": "standard",
    "kernelspec": {
      "display_name": "Python 3.10.8 64-bit",
      "language": "python",
      "name": "python3"
    },
    "language_info": {
      "codemirror_mode": {
        "name": "ipython",
        "version": 3
      },
      "file_extension": ".py",
      "mimetype": "text/x-python",
      "name": "python",
      "nbconvert_exporter": "python",
      "pygments_lexer": "ipython3",
      "version": "3.10.4"
    },
    "vscode": {
      "interpreter": {
        "hash": "8c3d4d9970fc5c09c50d9318a9c7fbf4d0159e4b28833276f5678ee22bded273"
      }
    }
  },
  "nbformat": 4,
  "nbformat_minor": 0
}
